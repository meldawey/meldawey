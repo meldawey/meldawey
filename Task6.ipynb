{
 "cells": [
  {
   "cell_type": "code",
   "execution_count": 1,
   "id": "b5be2cd7",
   "metadata": {},
   "outputs": [],
   "source": [
    "import networkx as nx\n",
    "import pandas as pd\n",
    "import matplotlib.pyplot as plt"
   ]
  },
  {
   "cell_type": "code",
   "execution_count": 2,
   "id": "dce97b8a",
   "metadata": {},
   "outputs": [],
   "source": [
    "df=pd.read_csv(\"HomoSapiens_binary_hq.txt\",nrows=200,sep=\"\\t\",usecols=[\"Gene_A\",\"Gene_B\"])\n"
   ]
  },
  {
   "cell_type": "code",
   "execution_count": 3,
   "id": "a3e8a66e",
   "metadata": {},
   "outputs": [
    {
     "name": "stdout",
     "output_type": "stream",
     "text": [
      "         Gene_A      Gene_B\n",
      "0    A0A024QYV7  A0A024QYV7\n",
      "1    A0A024QYV7       EWSR1\n",
      "2    A0A024QYV7      DDX39B\n",
      "3    A0A024QYV7       CDC37\n",
      "4    A0A024QYV7        ELF5\n",
      "..          ...         ...\n",
      "195    KIAA1683      CALML3\n",
      "196       WDR57    SNRNP200\n",
      "197       WDR57        ACP5\n",
      "198       WDR57        DDR1\n",
      "199       WDR57      EFTUD2\n",
      "\n",
      "[200 rows x 2 columns]\n"
     ]
    }
   ],
   "source": [
    "print(df)\n"
   ]
  },
  {
   "cell_type": "code",
   "execution_count": 4,
   "id": "d1fc2f7a",
   "metadata": {},
   "outputs": [],
   "source": [
    "G=nx.from_pandas_edgelist(df,\"Gene_A\",\"Gene_B\",create_using=nx.DiGraph())"
   ]
  },
  {
   "cell_type": "code",
   "execution_count": 6,
   "id": "f6a0af48",
   "metadata": {},
   "outputs": [
    {
     "name": "stdout",
     "output_type": "stream",
     "text": [
      "[1, 2, 3, 4, 5, 6, 7, 10, 11, 50]\n",
      "10\n"
     ]
    },
    {
     "data": {
      "image/png": "[encoded data removed]",
      "text/plain": [
       "<Figure size 432x288 with 1 Axes>"
      ]
     },
     "metadata": {
      "needs_background": "light"
     },
     "output_type": "display_data"
    },
    {
     "data": {
      "image/png": "[encoded data removed]",
      "text/plain": [
       "<Figure size 432x288 with 1 Axes>"
      ]
     },
     "metadata": {
      "needs_background": "light"
     },
     "output_type": "display_data"
    }
   ],
   "source": [
    "    degrees = G.degree()\n",
    "    degrees = dict(degrees)\n",
    "    values = sorted(set(degrees.values()))\n",
    "    print(values)\n",
    "    histo = [list(degrees.values()).count(x) for x in values]\n",
    "    P_k = [x / G.order() for x in histo]\n",
    "    print(len(P_k))\n",
    "    \n",
    "    plt.figure()\n",
    "    plt.bar(values, P_k)\n",
    "    plt.xlabel(\"k\",fontsize=20)\n",
    "    plt.ylabel(\"p(k)\", fontsize=20)\n",
    "    plt.title(\"Degree Distribution\", fontsize=20)\n",
    "    \n",
    "    plt.show()\n",
    "    plt.figure()\n",
    "    plt.grid(False)\n",
    "    plt.loglog(values, P_k, \"bo\")\n",
    "    plt.xlabel(\"k\", fontsize=20)\n",
    "    plt.ylabel(\"log p(k)\", fontsize=20)\n",
    "    plt.title(\"log Degree Distribution\")\n",
    "    plt.show()\n",
    "    plt.show() "
   ]
  },
  {
   "cell_type": "code",
   "execution_count": null,
   "id": "4134d4e4",
   "metadata": {},
   "outputs": [],
   "source": []
  }
 ],
 "metadata": {
  "kernelspec": {
   "display_name": "Python 3 (ipykernel)",
   "language": "python",
   "name": "python3"
  },
  "language_info": {
   "codemirror_mode": {
    "name": "ipython",
    "version": 3
   },
   "file_extension": ".py",
   "mimetype": "text/x-python",
   "name": "python",
   "nbconvert_exporter": "python",
   "pygments_lexer": "ipython3",
   "version": "3.9.7"
  }
 },
 "nbformat": 4,
 "nbformat_minor": 5
}
